{
 "cells": [
  {
   "cell_type": "code",
   "execution_count": 2,
   "metadata": {},
   "outputs": [],
   "source": [
    "import numpy as np\n",
    "import sympy as sym\n"
   ]
  },
  {
   "cell_type": "code",
   "execution_count": 4,
   "metadata": {},
   "outputs": [
    {
     "name": "stdout",
     "output_type": "stream",
     "text": [
      "A: \n",
      " [[1 3]\n",
      " [2 5]]\n",
      "b: \n",
      " [[10]\n",
      " [ 8]]\n",
      "Solution: \n",
      " [[-26.]\n",
      " [ 12.]]\n"
     ]
    }
   ],
   "source": [
    "A = np.array(((1,3),(2,5)))\n",
    "b = np.array([[10],[8]])\n",
    "\n",
    "print(\"A:\",'\\n',A)\n",
    "print(\"b:\",'\\n',b)\n",
    "\n",
    "print(\"Solution:\",'\\n',np.linalg.solve(A,b))\n"
   ]
  },
  {
   "cell_type": "code",
   "execution_count": 21,
   "metadata": {},
   "outputs": [
    {
     "name": "stdout",
     "output_type": "stream",
     "text": [
      "Solution: \n",
      " Matrix([[X[0, 0]*Y[0, 0] + X[0, 1]*Y[1, 0] + X[0, 2]*Y[2, 0]], [X[1, 0]*Y[0, 0] + X[1, 1]*Y[1, 0] + X[1, 2]*Y[2, 0]], [X[2, 0]*Y[0, 0] + X[2, 1]*Y[1, 0] + X[2, 2]*Y[2, 0]]])\n"
     ]
    }
   ],
   "source": [
    "from sympy import MatrixSymbol, Matrix\n",
    "X = MatrixSymbol('X', 3, 3)\n",
    "Y = MatrixSymbol('Y', 3, 1)\n",
    "\n",
    "Matrix(X)\n",
    "\n",
    "Matrix(Y)\n",
    "\n",
    "S = sym.MatMul(X,Y)\n",
    "\n",
    "print(\"Solution:\",'\\n', Matrix(S))"
   ]
  },
  {
   "cell_type": "code",
   "execution_count": 19,
   "metadata": {},
   "outputs": [
    {
     "data": {
      "text/latex": [
       "$\\displaystyle \\left[\\begin{array}{ccc}X_{0, 0} & X_{0, 1} & X_{0, 2}\\\\X_{1, 0} & X_{1, 1} & X_{1, 2}\\\\X_{2, 0} & X_{2, 1} & X_{2, 2}\\end{array}\\right]$"
      ],
      "text/plain": [
       "Matrix([\n",
       "[X[0, 0], X[0, 1], X[0, 2]],\n",
       "[X[1, 0], X[1, 1], X[1, 2]],\n",
       "[X[2, 0], X[2, 1], X[2, 2]]])"
      ]
     },
     "execution_count": 19,
     "metadata": {},
     "output_type": "execute_result"
    }
   ],
   "source": [
    "X = MatrixSymbol('X', 3, 3)\n",
    "Y = MatrixSymbol('Y', 3, 1)\n",
    "\n",
    "Matrix(X)"
   ]
  },
  {
   "cell_type": "code",
   "execution_count": 20,
   "metadata": {},
   "outputs": [
    {
     "data": {
      "text/latex": [
       "$\\displaystyle \\left[\\begin{array}{c}Y_{0, 0}\\\\Y_{1, 0}\\\\Y_{2, 0}\\end{array}\\right]$"
      ],
      "text/plain": [
       "Matrix([\n",
       "[Y[0, 0]],\n",
       "[Y[1, 0]],\n",
       "[Y[2, 0]]])"
      ]
     },
     "execution_count": 20,
     "metadata": {},
     "output_type": "execute_result"
    }
   ],
   "source": [
    "Matrix(Y)"
   ]
  },
  {
   "cell_type": "code",
   "execution_count": null,
   "metadata": {},
   "outputs": [],
   "source": []
  }
 ],
 "metadata": {
  "kernelspec": {
   "display_name": "Python 3.9.12 ('base')",
   "language": "python",
   "name": "python3"
  },
  "language_info": {
   "codemirror_mode": {
    "name": "ipython",
    "version": 3
   },
   "file_extension": ".py",
   "mimetype": "text/x-python",
   "name": "python",
   "nbconvert_exporter": "python",
   "pygments_lexer": "ipython3",
   "version": "3.9.12"
  },
  "orig_nbformat": 4,
  "vscode": {
   "interpreter": {
    "hash": "f60fe957629c527681a9cad8db0c314e1cea11b60e21da04d79b5fc003665231"
   }
  }
 },
 "nbformat": 4,
 "nbformat_minor": 2
}
