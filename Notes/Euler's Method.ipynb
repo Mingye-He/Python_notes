{
 "cells": [
  {
   "cell_type": "markdown",
   "metadata": {},
   "source": [
    "# Euler Method\n",
    "- code the Euler's method to approximate any given function at given x values and steps\n",
    "\n",
    "## The Plan\n",
    "- figure out how to insert a value into a derivative and it the slope of the function\n",
    "- design an algorithm that can use use the value of the slope and estimate certain values (Euler's Method)"
   ]
  },
  {
   "cell_type": "code",
   "execution_count": 2,
   "metadata": {},
   "outputs": [],
   "source": [
    "import numpy as np\n",
    "import matplotlib.pyplot as plt\n",
    "import sympy as sym"
   ]
  },
  {
   "cell_type": "code",
   "execution_count": 2,
   "metadata": {},
   "outputs": [
    {
     "name": "stdout",
     "output_type": "stream",
     "text": [
      "9\n"
     ]
    }
   ],
   "source": [
    "# making a function in into class\n",
    "class Addition():\n",
    "    def __init__(self, x,y,):\n",
    "        self.x =x\n",
    "        self.y = y\n",
    "    \n",
    "    def function(self):\n",
    "        print(np.add(self.x, self.y))\n",
    "\n",
    "Answer = Addition(5,4)\n",
    "Answer.function()\n"
   ]
  },
  {
   "cell_type": "code",
   "execution_count": 3,
   "metadata": {},
   "outputs": [
    {
     "name": "stdout",
     "output_type": "stream",
     "text": [
      "Info:\n",
      "x_values 2\n",
      "y-value: 4\n"
     ]
    }
   ],
   "source": [
    "# inster value into function\n",
    "class method():\n",
    "    def __init__(self, x):\n",
    "        self.x = x\n",
    "\n",
    "    def info(self):\n",
    "        print(\"Info:\")\n",
    "        print(\"x_values\",self.x)\n",
    "        \n",
    "    def function(self):\n",
    "        f = lambda x : x**2\n",
    "        print(\"y-value:\", f(self.x))\n",
    "\n",
    "answer = method(2)\n",
    "answer.info()\n",
    "answer.function()"
   ]
  },
  {
   "cell_type": "code",
   "execution_count": 6,
   "metadata": {},
   "outputs": [
    {
     "name": "stdout",
     "output_type": "stream",
     "text": [
      "Info:\n",
      "x_values: 2\n"
     ]
    },
    {
     "ename": "TypeError",
     "evalue": "'Pow' object is not callable",
     "output_type": "error",
     "traceback": [
      "\u001b[0;31m---------------------------------------------------------------------------\u001b[0m",
      "\u001b[0;31mTypeError\u001b[0m                                 Traceback (most recent call last)",
      "\u001b[1;32m/home/mingye/Documents/Notes/Python/Notes/Euler's Method.ipynb Cell 5\u001b[0m in \u001b[0;36m<cell line: 36>\u001b[0;34m()\u001b[0m\n\u001b[1;32m     <a href='vscode-notebook-cell:/home/mingye/Documents/Notes/Python/Notes/Euler%27s%20Method.ipynb#W4sZmlsZQ%3D%3D?line=33'>34</a>\u001b[0m answer \u001b[39m=\u001b[39m method(\u001b[39m2\u001b[39m,\u001b[39m0\u001b[39m)\n\u001b[1;32m     <a href='vscode-notebook-cell:/home/mingye/Documents/Notes/Python/Notes/Euler%27s%20Method.ipynb#W4sZmlsZQ%3D%3D?line=34'>35</a>\u001b[0m answer\u001b[39m.\u001b[39minfo()\n\u001b[0;32m---> <a href='vscode-notebook-cell:/home/mingye/Documents/Notes/Python/Notes/Euler%27s%20Method.ipynb#W4sZmlsZQ%3D%3D?line=35'>36</a>\u001b[0m answer\u001b[39m.\u001b[39;49mfunction()\n\u001b[1;32m     <a href='vscode-notebook-cell:/home/mingye/Documents/Notes/Python/Notes/Euler%27s%20Method.ipynb#W4sZmlsZQ%3D%3D?line=36'>37</a>\u001b[0m answer\u001b[39m.\u001b[39mderivative()\n\u001b[1;32m     <a href='vscode-notebook-cell:/home/mingye/Documents/Notes/Python/Notes/Euler%27s%20Method.ipynb#W4sZmlsZQ%3D%3D?line=37'>38</a>\u001b[0m answer\u001b[39m.\u001b[39mslopelin()\n",
      "\u001b[1;32m/home/mingye/Documents/Notes/Python/Notes/Euler's Method.ipynb Cell 5\u001b[0m in \u001b[0;36mmethod.function\u001b[0;34m(self)\u001b[0m\n\u001b[1;32m     <a href='vscode-notebook-cell:/home/mingye/Documents/Notes/Python/Notes/Euler%27s%20Method.ipynb#W4sZmlsZQ%3D%3D?line=16'>17</a>\u001b[0m \u001b[39mdef\u001b[39;00m \u001b[39mfunction\u001b[39m(\u001b[39mself\u001b[39m):\n\u001b[0;32m---> <a href='vscode-notebook-cell:/home/mingye/Documents/Notes/Python/Notes/Euler%27s%20Method.ipynb#W4sZmlsZQ%3D%3D?line=17'>18</a>\u001b[0m     \u001b[39mprint\u001b[39m(\u001b[39m\"\u001b[39m\u001b[39my-value:\u001b[39m\u001b[39m\"\u001b[39m, f(\u001b[39mself\u001b[39;49m\u001b[39m.\u001b[39;49mx_start))\n",
      "\u001b[0;31mTypeError\u001b[0m: 'Pow' object is not callable"
     ]
    }
   ],
   "source": [
    "# insert a value into derivative\n",
    "\n",
    "x = sym.Symbol('x')\n",
    "f = lambda x : x**2\n",
    "dy = sym.diff(x**2)\n",
    "\n",
    "class method():\n",
    "    def __init__(self, x_start, x_end, steps):\n",
    "        self.x_start = x_start\n",
    "        self.x_end = x_end\n",
    "        self.steps = steps\n",
    "\n",
    "    def info(self):\n",
    "        print(\"Info:\")\n",
    "        print(\"x_values\",self.x_start)\n",
    "        \n",
    "    def function(self):\n",
    "        print(\"y-value:\", f(self.x_start))\n",
    "        \n",
    "    def derivative(self):\n",
    "        # must insert the function here also\n",
    "        x = sym.Symbol('x')\n",
    "        dy = sym.diff(x**2)\n",
    "        print(\"derivative: f'(x)=\",dy)\n",
    "\n",
    "    def slopelin(self):\n",
    "        m = dy.subs(x, self.x_start)\n",
    "        print(\"Slope at x =\",self.x_start, \":\",m)\n",
    "        approxlin = lambda x: m*x + f(x)\n",
    "        line = approxlin(self.x_start)\n",
    "        print(line)\n",
    "\n",
    "\n",
    "answer = method(2,0,1,4)\n",
    "answer.info()\n",
    "answer.function()\n",
    "answer.derivative()\n",
    "answer.slopelin()"
   ]
  },
  {
   "cell_type": "code",
   "execution_count": 9,
   "metadata": {},
   "outputs": [
    {
     "name": "stdout",
     "output_type": "stream",
     "text": [
      "0\n",
      "1\n",
      "2\n"
     ]
    }
   ],
   "source": [
    "x = 0\n",
    "y = 2\n",
    "for i in range(x,y+1):\n",
    "    print(i)\n",
    "\n"
   ]
  },
  {
   "cell_type": "code",
   "execution_count": null,
   "metadata": {},
   "outputs": [
    {
     "data": {
      "image/png": "[encoded data removed]",
      "text/plain": [
       "<Figure size 432x288 with 1 Axes>"
      ]
     },
     "metadata": {
      "needs_background": "light"
     },
     "output_type": "display_data"
    }
   ],
   "source": [
    "x = np.linspace(0, 4, 1000)\n",
    "y = np.square(x)\n",
    "\n",
    "fig, ax = plt.subplots()\n",
    "ax.plot(x,y)\n",
    "fig.suptitle(\"Functions\")\n",
    "plt.show()"
   ]
  },
  {
   "cell_type": "code",
   "execution_count": null,
   "metadata": {},
   "outputs": [],
   "source": []
  }
 ],
 "metadata": {
  "kernelspec": {
   "display_name": "Python 3.10.5 64-bit",
   "language": "python",
   "name": "python3"
  },
  "language_info": {
   "codemirror_mode": {
    "name": "ipython",
    "version": 3
   },
   "file_extension": ".py",
   "mimetype": "text/x-python",
   "name": "python",
   "nbconvert_exporter": "python",
   "pygments_lexer": "ipython3",
   "version": "3.10.5"
  },
  "orig_nbformat": 4,
  "vscode": {
   "interpreter": {
    "hash": "a0b92009e007ea74892ce71852617f5d08439bc7009f742fab30cbd093887492"
   }
  }
 },
 "nbformat": 4,
 "nbformat_minor": 2
}
