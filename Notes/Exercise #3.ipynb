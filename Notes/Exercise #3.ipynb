{
 "cells": [
  {
   "cell_type": "markdown",
   "metadata": {},
   "source": [
    "# Exercise from Notes #3"
   ]
  },
  {
   "cell_type": "code",
   "execution_count": 2,
   "metadata": {},
   "outputs": [],
   "source": [
    "import numpy as np\n",
    "import matplotlib.pyplot as plt\n",
    "import pandas as pd"
   ]
  },
  {
   "cell_type": "code",
   "execution_count": 5,
   "metadata": {},
   "outputs": [
    {
     "name": "stdout",
     "output_type": "stream",
     "text": [
      "[RangeIndex(start=0, stop=150, step=1), Index(['sepal_length', 'sepal_width', 'petal_length', 'petal_width',\n",
      "       'species'],\n",
      "      dtype='object')]\n",
      "['setosa' 'versicolor' 'virginica']\n"
     ]
    }
   ],
   "source": [
    "iris = pd.read_csv('https://raw.githubusercontent.com/mwaskom/seaborn-data/master/iris.csv')\n",
    "print(iris.axes)\n",
    "iris_numpy = iris.to_numpy()\n",
    "labels = np.unique(iris_numpy[:,-1]) # np.unique records unique values in an Array\n",
    "print(labels)\n",
    "\n",
    "setosa= iris_numpy[iris_numpy[:,-1] == labels[0]]\n",
    "versicolor = iris_numpy[iris_numpy[:,-1] == labels[1]]\n",
    "virginica = iris_numpy[iris_numpy[:,-1] == labels[2]]"
   ]
  },
  {
   "cell_type": "markdown",
   "metadata": {},
   "source": [
    "## Exercise #1\n",
    "Implement the above plot with labels for the three flowers. you will need to determine the best way to plot each class separatly, then call ax.scatter for each one, assigning the correct label. Make sure to aff the legend to the axes"
   ]
  },
  {
   "cell_type": "code",
   "execution_count": 4,
   "metadata": {},
   "outputs": [
    {
     "data": {
      "text/plain": [
       "Text(0, 0.5, 'Petal Length')"
      ]
     },
     "execution_count": 4,
     "metadata": {},
     "output_type": "execute_result"
    },
    {
     "data": {
      "image/png": "[encoded data removed]",
      "text/plain": [
       "<Figure size 1080x360 with 3 Axes>"
      ]
     },
     "metadata": {
      "needs_background": "light"
     },
     "output_type": "display_data"
    }
   ],
   "source": [
    "# comparing Petal Length with Petal widths\n",
    "\n",
    "setosa= iris_numpy[iris_numpy[:,-1] == labels[0]]\n",
    "versicolor = iris_numpy[iris_numpy[:,-1] == labels[1]]\n",
    "virginica = iris_numpy[iris_numpy[:,-1] == labels[2]]\n",
    "\n",
    "fig, (ax1, ax2, ax3) = plt.subplots(1,3, figsize = (15,5))\n",
    "plt.suptitle(\" Different Species of Flowers Petal Analysis\")\n",
    "\n",
    "ax1.set_title(\"Setosa\")\n",
    "ax1.scatter(setosa[:,3],setosa[:,2], color = \"purple\")\n",
    "ax1.set_xlabel(\"Petal Width\")\n",
    "ax1.set_ylabel(\"Petal Length\")\n",
    "\n",
    "ax2.set_title(\"versicolor\")\n",
    "ax2.scatter(versicolor[:,3], versicolor[:,2], color = \"blue\")\n",
    "ax2.set_xlabel(\"Petal Width\")\n",
    "ax2.set_ylabel(\"Petal Length\")\n",
    "\n",
    "ax3.set_title(\"virginica\")\n",
    "ax3.scatter(virginica[:,3], virginica[:,2], color = \"green\")\n",
    "ax3.set_xlabel(\"Petal Width\")\n",
    "ax3.set_ylabel(\"Petal Length\")"
   ]
  },
  {
   "cell_type": "markdown",
   "metadata": {},
   "source": [
    "## Exercise #2\n",
    "Plot the box plots for the Petal Length of each flower against each other. Look and see what trends you can see from the figure. In order to plot the three sets of data, create a list containing all three: setosa, versicolor, virginica"
   ]
  },
  {
   "cell_type": "code",
   "execution_count": 7,
   "metadata": {},
   "outputs": [
    {
     "name": "stdout",
     "output_type": "stream",
     "text": [
      "[[5.1 3.5 1.4 0.2 'setosa']\n",
      " [4.9 3.0 1.4 0.2 'setosa']\n",
      " [4.7 3.2 1.3 0.2 'setosa']\n",
      " [4.6 3.1 1.5 0.2 'setosa']\n",
      " [5.0 3.6 1.4 0.2 'setosa']\n",
      " [5.4 3.9 1.7 0.4 'setosa']\n",
      " [4.6 3.4 1.4 0.3 'setosa']\n",
      " [5.0 3.4 1.5 0.2 'setosa']\n",
      " [4.4 2.9 1.4 0.2 'setosa']\n",
      " [4.9 3.1 1.5 0.1 'setosa']\n",
      " [5.4 3.7 1.5 0.2 'setosa']\n",
      " [4.8 3.4 1.6 0.2 'setosa']\n",
      " [4.8 3.0 1.4 0.1 'setosa']\n",
      " [4.3 3.0 1.1 0.1 'setosa']\n",
      " [5.8 4.0 1.2 0.2 'setosa']\n",
      " [5.7 4.4 1.5 0.4 'setosa']\n",
      " [5.4 3.9 1.3 0.4 'setosa']\n",
      " [5.1 3.5 1.4 0.3 'setosa']\n",
      " [5.7 3.8 1.7 0.3 'setosa']\n",
      " [5.1 3.8 1.5 0.3 'setosa']\n",
      " [5.4 3.4 1.7 0.2 'setosa']\n",
      " [5.1 3.7 1.5 0.4 'setosa']\n",
      " [4.6 3.6 1.0 0.2 'setosa']\n",
      " [5.1 3.3 1.7 0.5 'setosa']\n",
      " [4.8 3.4 1.9 0.2 'setosa']\n",
      " [5.0 3.0 1.6 0.2 'setosa']\n",
      " [5.0 3.4 1.6 0.4 'setosa']\n",
      " [5.2 3.5 1.5 0.2 'setosa']\n",
      " [5.2 3.4 1.4 0.2 'setosa']\n",
      " [4.7 3.2 1.6 0.2 'setosa']\n",
      " [4.8 3.1 1.6 0.2 'setosa']\n",
      " [5.4 3.4 1.5 0.4 'setosa']\n",
      " [5.2 4.1 1.5 0.1 'setosa']\n",
      " [5.5 4.2 1.4 0.2 'setosa']\n",
      " [4.9 3.1 1.5 0.2 'setosa']\n",
      " [5.0 3.2 1.2 0.2 'setosa']\n",
      " [5.5 3.5 1.3 0.2 'setosa']\n",
      " [4.9 3.6 1.4 0.1 'setosa']\n",
      " [4.4 3.0 1.3 0.2 'setosa']\n",
      " [5.1 3.4 1.5 0.2 'setosa']\n",
      " [5.0 3.5 1.3 0.3 'setosa']\n",
      " [4.5 2.3 1.3 0.3 'setosa']\n",
      " [4.4 3.2 1.3 0.2 'setosa']\n",
      " [5.0 3.5 1.6 0.6 'setosa']\n",
      " [5.1 3.8 1.9 0.4 'setosa']\n",
      " [4.8 3.0 1.4 0.3 'setosa']\n",
      " [5.1 3.8 1.6 0.2 'setosa']\n",
      " [4.6 3.2 1.4 0.2 'setosa']\n",
      " [5.3 3.7 1.5 0.2 'setosa']\n",
      " [5.0 3.3 1.4 0.2 'setosa']]\n"
     ]
    }
   ],
   "source": [
    "print(setosa)"
   ]
  },
  {
   "cell_type": "code",
   "execution_count": 30,
   "metadata": {},
   "outputs": [
    {
     "data": {
      "text/plain": [
       "[Text(1, 0, 'Sepal Length'),\n",
       " Text(2, 0, 'Sepal Width'),\n",
       " Text(3, 0, 'Petal Length'),\n",
       " Text(4, 0, 'Petal Width')]"
      ]
     },
     "execution_count": 30,
     "metadata": {},
     "output_type": "execute_result"
    },
    {
     "data": {
      "image/png": "[encoded data removed]",
      "text/plain": [
       "<Figure size 1080x576 with 3 Axes>"
      ]
     },
     "metadata": {
      "needs_background": "light"
     },
     "output_type": "display_data"
    }
   ],
   "source": [
    "\n",
    "fig, (ax1, ax2, ax3) = plt.subplots(1,3, figsize = (15,8))\n",
    "plt.suptitle(\" Different Species of Flowers Petal Analysis\")\n",
    "\n",
    "ax1.set_title(\"Setosa\")\n",
    "ax1.boxplot(setosa[:,:-1])\n",
    "ax1.set_xticklabels((\"Sepal Length\",\"Sepal Width\",\"Petal Length\",\"Petal Width\"))\n",
    "ax1.set_ylabel(\"Length in cm\")\n",
    "\n",
    "ax2.set_title(\"versicolor\")\n",
    "ax2.boxplot(versicolor[:,:-1])\n",
    "ax2.set_ylabel(\"Petal Length\")\n",
    "ax2.set_xticklabels((\"Sepal Length\",\"Sepal Width\",\"Petal Length\",\"Petal Width\"))\n",
    "\n",
    "ax3.set_title(\"virginica\")\n",
    "ax3.boxplot(virginica[:,:-1])\n",
    "ax3.set_ylabel(\"Petal Length\")\n",
    "ax3.set_xticklabels((\"Sepal Length\",\"Sepal Width\",\"Petal Length\",\"Petal Width\"))"
   ]
  },
  {
   "cell_type": "markdown",
   "metadata": {},
   "source": [
    "## Exercise #2 \n",
    "Try matching some of the following distributions to the data on the examples above. See which provides teh best results for the meterorite dataset\n",
    "1. weibull_min\n",
    "2. chi2\n",
    "3. lognorm\n",
    "4. powerlognorm"
   ]
  },
  {
   "cell_type": "markdown",
   "metadata": {},
   "source": [
    "# Exercise #3\n",
    "You will be working with data recorded by Nasa and provided publically online. You can find the data here. The dataset records an array of information on near earth astroids, and is provided for users to identify asteroids that will be traveling near the earth and their properties. We will focus on three of these properties, the absolute visual magnitude (h), the minimum size of the object, and the maximum size of the object.\n",
    "\n",
    "- Analyze some statistics pertaining to these values and the relationship between the average size of an asteriod and its absolute visual magnitude\n",
    "  \n",
    "Using this data, please attempt the following:\n",
    "\n",
    "1. Use the min and max estimated size to estimate the size of an astroid\n",
    "2. Plot the distribution of the estimated sizes using a box plot the distribution of the absolute visual magnitude with a histogram\n",
    "3. Use Pandas to see some summary statistics on the three features\n",
    "4. Plot a scatter plot of the estimated size of the asteroid vs. the absolute visual magnitude. See if you can identify any trends between the two.\n",
    "5. Use Scipy's interpolation functions to best approximate the trend beteen the estimated size and the absolute visual magnitude.\n",
    "6. Use the normal distribution to estimate the distribution of absolute magnitudes."
   ]
  },
  {
   "cell_type": "code",
   "execution_count": null,
   "metadata": {},
   "outputs": [],
   "source": [
    "import pandas as pd\n",
    "import numpy as np\n",
    "import json\n",
    "from urllib.request import urlopen\n",
    "import matplotlib.pyplot as plt\n",
    "from scipy import interpolate,stats\n",
    "\n",
    "url = \"https://ssd-api.jpl.nasa.gov/nhats.api\"\n",
    "response = urlopen(url)\n",
    "data_json = json.loads(response.read())\n",
    "data = pd.DataFrame(data_json[\"data\"])[['h','min_size','max_size']].astype(float)\n",
    "del data_json\n",
    "\n",
    "print(data.info())"
   ]
  }
 ],
 "metadata": {
  "kernelspec": {
   "display_name": "Python 3.9.12 ('base')",
   "language": "python",
   "name": "python3"
  },
  "language_info": {
   "codemirror_mode": {
    "name": "ipython",
    "version": 3
   },
   "file_extension": ".py",
   "mimetype": "text/x-python",
   "name": "python",
   "nbconvert_exporter": "python",
   "pygments_lexer": "ipython3",
   "version": "3.9.12"
  },
  "orig_nbformat": 4,
  "vscode": {
   "interpreter": {
    "hash": "f60fe957629c527681a9cad8db0c314e1cea11b60e21da04d79b5fc003665231"
   }
  }
 },
 "nbformat": 4,
 "nbformat_minor": 2
}
