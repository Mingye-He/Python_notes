{
 "cells": [
  {
   "cell_type": "markdown",
   "metadata": {},
   "source": [
    "# Python Notes #1\n",
    "## Modules, Packages, and Libraries\n",
    "- modules\n",
    "  : a bunch of related code saved into one file with the .py extension\n",
    "- Packages\n",
    "  : collection of modules\n",
    "  - ex: numpy, pandas\n",
    "- Libraries\n",
    "  : a collection of packages\n",
    "  - ex: pytorch, matplotlib\n",
    "  \n",
    "## Importing Packages and Libraries\n",
    "` import __package name __ as __nickname_`\n",
    "- the nickname is the reference the package"
   ]
  },
  {
   "cell_type": "code",
   "execution_count": 1,
   "metadata": {},
   "outputs": [],
   "source": [
    "# for example: \n",
    "import numpy as np\n",
    "# calling the numpy package about np\n",
    "\n",
    "import matplotlib.pyplot as plt\n",
    "\n",
    "### importing specific functions in a package if that one function is only needed\n",
    "from numpy.random import randint\n",
    "\n",
    "randint(0,10)"
   ]
  },
  {
   "cell_type": "markdown",
   "metadata": {},
   "source": [
    "-  `randint` is a function that generates a random number given it lower and upper bound. \n",
    "- in the example above, the lower bound is 0 and uppder is 10"
   ]
  },
  {
   "cell_type": "markdown",
   "metadata": {},
   "source": [
    "## Object Oriented Programming\n",
    "- object\n",
    "  : group of data and code that serves a certain function\n",
    "\n",
    "  **3 traits of the OOP**\n",
    "  1. Encapsulation\n",
    "  2. Inheritance\n",
    "  3. Polymorphism\n",
    "\n",
    "### Encapsulation\n",
    "- information in a class is protected from the rest of the code.\n",
    "- group of data (class) should not have direct access to another class\n",
    "- the access given through a function\n",
    "\n",
    "### Access Modifiers\n",
    "- used to modify the scopes of variables\n",
    "  \n",
    "  **3 types of Access Modifiers**\n",
    "  1. public variable \n",
    "   : can be access from inside and outside of the class, and outside the module\n",
    "  2. Protected variable\n",
    "   : can be accessed inside and outside of the class, but not outside the module\n",
    "     - represented by an underscores (-)\n",
    "  3. Private variable\n",
    "   :can only be acces inside the class\n",
    "     - represented by two underscores (__)\n",
    "   "
   ]
  },
  {
   "cell_type": "markdown",
   "metadata": {},
   "source": [
    "`self` is used to represent the instances of a class"
   ]
  },
  {
   "cell_type": "code",
   "execution_count": 67,
   "metadata": {},
   "outputs": [],
   "source": [
    "class food():\n",
    "  def __init__(self):\n",
    "    self.apples = \"World\"\n",
    "    self._oranges = \"Bye\" #protected\n",
    "    self.__leaf= \"Hello\" #private\n",
    "    return None\n",
    "\n",
    "  def print_A(self):\n",
    "    print(self.apples)\n",
    "\n",
    "  def print_B(self): #protected\n",
    "    print(self._oranges)\n",
    "\n",
    "  def print_L(self): #private\n",
    "    print(self.__leaf)\n",
    "  \n",
    "   "
   ]
  },
  {
   "cell_type": "code",
   "execution_count": 46,
   "metadata": {},
   "outputs": [
    {
     "name": "stdout",
     "output_type": "stream",
     "text": [
      "All three are being called from within the class through the functions.\n",
      "World\n",
      "Bye\n",
      "Hello\n"
     ]
    }
   ],
   "source": [
    "### Example #1: printing all variables from inside their class. All variables will be printed since all have access to the from inside their class\n",
    "\n",
    "example = food()\n",
    "\n",
    "print(\"All three are being called from within the class through the functions.\")\n",
    "example.print_A()\n",
    "example.print_B()\n",
    "example.print_L()"
   ]
  },
  {
   "cell_type": "code",
   "execution_count": 75,
   "metadata": {},
   "outputs": [
    {
     "name": "stdout",
     "output_type": "stream",
     "text": [
      "All three are being called from within the class through the functions.\n",
      "World\n",
      "Bye\n"
     ]
    },
    {
     "ename": "AttributeError",
     "evalue": "'food' object has no attribute '__leaf'",
     "output_type": "error",
     "traceback": [
      "\u001b[0;31m---------------------------------------------------------------------------\u001b[0m",
      "\u001b[0;31mAttributeError\u001b[0m                            Traceback (most recent call last)",
      "\u001b[1;32m/home/mingye/Documents/PyStudy/pythonbasics.ipynb Cell 8'\u001b[0m in \u001b[0;36m<cell line: 7>\u001b[0;34m()\u001b[0m\n\u001b[1;32m      <a href='vscode-notebook-cell:/home/mingye/Documents/PyStudy/pythonbasics.ipynb#ch0000022?line=4'>5</a>\u001b[0m \u001b[39mprint\u001b[39m(example\u001b[39m.\u001b[39mapples)\n\u001b[1;32m      <a href='vscode-notebook-cell:/home/mingye/Documents/PyStudy/pythonbasics.ipynb#ch0000022?line=5'>6</a>\u001b[0m \u001b[39mprint\u001b[39m(example\u001b[39m.\u001b[39m_oranges)\n\u001b[0;32m----> <a href='vscode-notebook-cell:/home/mingye/Documents/PyStudy/pythonbasics.ipynb#ch0000022?line=6'>7</a>\u001b[0m \u001b[39mprint\u001b[39m(example\u001b[39m.\u001b[39;49m__leaf)\n",
      "\u001b[0;31mAttributeError\u001b[0m: 'food' object has no attribute '__leaf'"
     ]
    }
   ],
   "source": [
    "### Example #2: call all three variables from outside of the class. The public and protected variables only should be printed\n",
    "example = food()\n",
    "\n",
    "print(\"All three are being called from within the class through the functions.\")\n",
    "print(example.apples)\n",
    "print(example._oranges)\n",
    "print(example.__leaf)\n"
   ]
  },
  {
   "cell_type": "markdown",
   "metadata": {},
   "source": [
    "## Inheritances\n",
    "- concept that a child class inherit some characteristics from it's parent with some unique characteristics."
   ]
  },
  {
   "cell_type": "code",
   "execution_count": 96,
   "metadata": {},
   "outputs": [],
   "source": [
    "class Person():  #Parent class\n",
    "  def __init__(self,name, age):\n",
    "    self.name = name\n",
    "    self.age = age\n",
    "\n",
    "  def print_name(self):\n",
    "    print(self.name)\n",
    "\n",
    "  def print_age(self):\n",
    "    print(self.age)\n",
    "\n",
    "class Worker(Person): #Worker is the child class. It has another unique characteristics : job\n",
    "  def __init__(self,name,age,job):\n",
    "    Person.__init__(self,name,age)\n",
    "    self.job = job\n",
    "\n",
    "\n",
    "  def print_job(self):\n",
    "    print(self.job)"
   ]
  },
  {
   "cell_type": "code",
   "execution_count": 97,
   "metadata": {},
   "outputs": [
    {
     "name": "stdout",
     "output_type": "stream",
     "text": [
      "Farmer\n",
      "John Doe\n",
      "25\n"
     ]
    }
   ],
   "source": [
    "farmer_john = Worker(\"John Doe\", 25, \"Farmer\")\n",
    "\n",
    "farmer_john.print_job()\n",
    "farmer_john.print_name()\n",
    "farmer_john.print_age()"
   ]
  },
  {
   "cell_type": "markdown",
   "metadata": {},
   "source": [
    "## Abstraction\n",
    "- involves structuring a class without specifically setting the details contained within it. \n",
    "- used with inheritance by having the child class set a concrete definition for the abstract function. \n",
    "- useful in developing a class that utilizes the abstracted function without having to set the exact implementation \n",
    "\n",
    "- abstract method\n",
    "  : is a method that is declared, but contains no implementation"
   ]
  },
  {
   "cell_type": "markdown",
   "metadata": {},
   "source": [
    "### Example: \n",
    "- abc module provides the infrastructure for defining custom abstract base classes\n",
    "- the method, print_name(self) is being declared in the parent class but has no implementation\n",
    "\n",
    "- the method that is with abstractmethod must be defined (def) in the child class or else code won't work"
   ]
  },
  {
   "cell_type": "code",
   "execution_count": 102,
   "metadata": {},
   "outputs": [],
   "source": [
    "from abc import ABC, abstractmethod\n",
    "\n",
    "class Person(ABC): # person() is the parent class\n",
    "  def __init__(self,name, age): #functions\n",
    "    self.name = name\n",
    "    self.age = age\n",
    "\n",
    "  @abstractmethod\n",
    "  def print_name(self):\n",
    "    pass\n",
    "\n",
    "class Worker(Person): # worker() is the child class\n",
    "  def __init__(self,name,age,job):\n",
    "    Person.__init__(self,name,age)\n",
    "    self.job = job\n",
    "\n",
    "  def print_name(self):\n",
    "    print(self.name)\n",
    "\n",
    "  def print_job(self):\n",
    "    print(self.job) "
   ]
  },
  {
   "cell_type": "code",
   "execution_count": 104,
   "metadata": {},
   "outputs": [
    {
     "name": "stdout",
     "output_type": "stream",
     "text": [
      "Farmer\n",
      "John Doe\n"
     ]
    }
   ],
   "source": [
    "farmer_john = Worker(\"John Doe\", 25, \"Farmer\")\n",
    "\n",
    "farmer_john.print_job()\n",
    "\n",
    "farmer_john.print_name()"
   ]
  },
  {
   "cell_type": "markdown",
   "metadata": {},
   "source": [
    "## Polymorphism\n",
    "- concept that two functions can have the same name but having different functionalities depending on where they are created\n",
    "- In the example below, the two same functions are descriptions (their name is descriptions). The functions are in different class. One is from Car and the over is Truck. They have different functionalities (meaning, the print different sentences)"
   ]
  },
  {
   "cell_type": "code",
   "execution_count": 86,
   "metadata": {},
   "outputs": [],
   "source": [
    "class Car:\n",
    "  def description(self):\n",
    "    print(\"Cars are small.\")\n",
    "\n",
    "class Truck:\n",
    "  def description(self):\n",
    "    print(\"Trucks are large.\")"
   ]
  },
  {
   "cell_type": "code",
   "execution_count": 87,
   "metadata": {},
   "outputs": [
    {
     "name": "stdout",
     "output_type": "stream",
     "text": [
      "Cars are small.\n",
      "Trucks are large.\n"
     ]
    }
   ],
   "source": [
    "car = Car()\n",
    "truck = Truck()\n",
    "\n",
    "for vehicle in (car,truck):\n",
    "  vehicle.description()"
   ]
  },
  {
   "cell_type": "markdown",
   "metadata": {},
   "source": [
    "## Components of Python Code\n",
    "1. Data types \n",
    "   : used to represent different types of data in Python code\n",
    "   - Integers\n",
    "   - Floats\n",
    "   - Strings\n",
    "   - Booleans\n",
    "  \n",
    "2. Collection Data Types\n",
    "   : use to store multiple items in a single variable\n",
    "  - List (string are a type of list)\n",
    "  - tuple\n",
    "  - Set\n",
    "  - Dictionary\n",
    "  \n",
    "    - traits of collection data types\n",
    "  \n",
    "  Collection Data Type  | Ordered | Changeable | Allows Duplicates | Indexed\n",
    "----------------------|---------|------------|-------------------|--------\n",
    "List                  | True    | True       | True              | True \n",
    "Tuple                 | True    | False      | True              | True\n",
    "Set                   | False   | False      | False             | False\n",
    "Dictionary            | True    | True       | False             | False"
   ]
  },
  {
   "cell_type": "markdown",
   "metadata": {},
   "source": [
    "### Ordered\n",
    "- a collection is ordered if it has a defined order that will not change\n",
    "\n",
    "Example: the List and Tuple functions are ordered (Hello World) but set is not. It is scrambles"
   ]
  },
  {
   "cell_type": "code",
   "execution_count": 101,
   "metadata": {},
   "outputs": [
    {
     "name": "stdout",
     "output_type": "stream",
     "text": [
      "String: Hello World!\n",
      "List: ['H', 'e', 'l', 'l', 'o', ' ', 'W', 'o', 'r', 'l', 'd', '!']\n",
      "Tuple: ('H', 'e', 'l', 'l', 'o', ' ', 'W', 'o', 'r', 'l', 'd', '!')\n",
      "Set: {'W', 'l', 'd', 'o', 'e', ' ', 'r', '!', 'H'}\n"
     ]
    }
   ],
   "source": [
    "test_string = \"Hello World!\"\n",
    "\n",
    "test_list = list(test_string)\n",
    "test_tuple = tuple(test_string)\n",
    "test_set = set(test_string)\n",
    "\n",
    "print(\"String:\", test_string)\n",
    "print(\"List:\", test_list)\n",
    "print(\"Tuple:\", test_tuple)\n",
    "print(\"Set:\", test_set)"
   ]
  },
  {
   "cell_type": "markdown",
   "metadata": {},
   "source": [
    "### Changeable\n",
    "- a collection is changeable if items can be added, removed, or changed once the collection has been set.\n",
    "\n",
    "Example:\n",
    "- List are changable. Set are not\n",
    "- The example_list change but example_set has an error"
   ]
  },
  {
   "cell_type": "code",
   "execution_count": 105,
   "metadata": {},
   "outputs": [
    {
     "name": "stdout",
     "output_type": "stream",
     "text": [
      "Before: [10, 10, 20, 'Hello']\n",
      "After: [50, 10, 20, 'Hello']\n"
     ]
    },
    {
     "ename": "TypeError",
     "evalue": "'set' object does not support item assignment",
     "output_type": "error",
     "traceback": [
      "\u001b[0;31m---------------------------------------------------------------------------\u001b[0m",
      "\u001b[0;31mTypeError\u001b[0m                                 Traceback (most recent call last)",
      "\u001b[1;32m/home/mingye/Documents/PyStudy/pythonbasics.ipynb Cell 23'\u001b[0m in \u001b[0;36m<cell line: 8>\u001b[0;34m()\u001b[0m\n\u001b[1;32m      <a href='vscode-notebook-cell:/home/mingye/Documents/PyStudy/pythonbasics.ipynb#ch0000041?line=4'>5</a>\u001b[0m example_list[\u001b[39m0\u001b[39m] \u001b[39m=\u001b[39m \u001b[39m50\u001b[39m\n\u001b[1;32m      <a href='vscode-notebook-cell:/home/mingye/Documents/PyStudy/pythonbasics.ipynb#ch0000041?line=5'>6</a>\u001b[0m \u001b[39mprint\u001b[39m(\u001b[39m\"\u001b[39m\u001b[39mAfter:\u001b[39m\u001b[39m\"\u001b[39m, example_list)\n\u001b[0;32m----> <a href='vscode-notebook-cell:/home/mingye/Documents/PyStudy/pythonbasics.ipynb#ch0000041?line=7'>8</a>\u001b[0m example_set[\u001b[39m0\u001b[39m] \u001b[39m=\u001b[39m \u001b[39m50\u001b[39m\n",
      "\u001b[0;31mTypeError\u001b[0m: 'set' object does not support item assignment"
     ]
    }
   ],
   "source": [
    "example_list = [10, 10, 20, \"Hello\"] \n",
    "example_set = {10, 20, 30}\n",
    "\n",
    "print(\"Before:\",example_list)\n",
    "\n",
    "example_list[0] = 50 # changes the first number (0 position) to 50\n",
    "print(\"After:\", example_list)\n",
    "\n",
    "example_set[0] = 50"
   ]
  },
  {
   "cell_type": "markdown",
   "metadata": {},
   "source": [
    "### Allows Duplicates\n",
    "- a collection allows duplicates if two values in the collection can be the same\n",
    "\n",
    "Example:\n",
    "- List and tuples allow duplicate therefore when printed ten is printed twice\n",
    "- Sets and Dictionary do not allow duplicate therefore when printed, the objects are only printed twice"
   ]
  },
  {
   "cell_type": "code",
   "execution_count": 106,
   "metadata": {},
   "outputs": [
    {
     "name": "stdout",
     "output_type": "stream",
     "text": [
      "List: [10, 10, 20, 'Hello']\n",
      "Tuple: (10, 10, 20, 30)\n",
      "Set: {10, 20, 30}\n",
      "Dictionary: {'Age': 20, 'Name': 'John'}\n"
     ]
    }
   ],
   "source": [
    "example_list = [10, 10, 20, \"Hello\"]\n",
    "print(\"List:\",example_list)\n",
    "\n",
    "example_tuple = (10, 10, 20, 30)\n",
    "print(\"Tuple:\",example_tuple)\n",
    "\n",
    "example_set = {10, 10, 20, 30}\n",
    "print(\"Set:\",example_set)\n",
    "\n",
    "example_dictionary = {'Age': 20, 'Name': \"John\", 'Name': \"John\"}\n",
    "print(\"Dictionary:\",example_dictionary)"
   ]
  },
  {
   "cell_type": "markdown",
   "metadata": {},
   "source": [
    "### Indexed \n",
    "- a collection is indexed if a valus can be retrieved by its position in the collection\n",
    "\n",
    "Example: \n",
    "- List and Tuples is indexed, therefore when printing the first number (zero position), it can be printed\n",
    "- Set is not indexed, therefore when printing the first number (zero position), it cannot be printed\n",
    "- Print the number is 'retrieved'"
   ]
  },
  {
   "cell_type": "code",
   "execution_count": 107,
   "metadata": {},
   "outputs": [
    {
     "name": "stdout",
     "output_type": "stream",
     "text": [
      "List: 10\n",
      "Tuple: 10\n"
     ]
    },
    {
     "ename": "TypeError",
     "evalue": "'set' object is not subscriptable",
     "output_type": "error",
     "traceback": [
      "\u001b[0;31m---------------------------------------------------------------------------\u001b[0m",
      "\u001b[0;31mTypeError\u001b[0m                                 Traceback (most recent call last)",
      "\u001b[1;32m/home/mingye/Documents/PyStudy/pythonbasics.ipynb Cell 27'\u001b[0m in \u001b[0;36m<cell line: 8>\u001b[0;34m()\u001b[0m\n\u001b[1;32m      <a href='vscode-notebook-cell:/home/mingye/Documents/PyStudy/pythonbasics.ipynb#ch0000049?line=4'>5</a>\u001b[0m \u001b[39mprint\u001b[39m(\u001b[39m\"\u001b[39m\u001b[39mTuple:\u001b[39m\u001b[39m\"\u001b[39m,example_tuple[\u001b[39m0\u001b[39m])\n\u001b[1;32m      <a href='vscode-notebook-cell:/home/mingye/Documents/PyStudy/pythonbasics.ipynb#ch0000049?line=6'>7</a>\u001b[0m example_set \u001b[39m=\u001b[39m {\u001b[39m10\u001b[39m, \u001b[39m20\u001b[39m, \u001b[39m30\u001b[39m}\n\u001b[0;32m----> <a href='vscode-notebook-cell:/home/mingye/Documents/PyStudy/pythonbasics.ipynb#ch0000049?line=7'>8</a>\u001b[0m \u001b[39mprint\u001b[39m(\u001b[39m\"\u001b[39m\u001b[39mSet:\u001b[39m\u001b[39m\"\u001b[39m,example_set[\u001b[39m0\u001b[39;49m])\n",
      "\u001b[0;31mTypeError\u001b[0m: 'set' object is not subscriptable"
     ]
    }
   ],
   "source": [
    "example_list = [10, 10, 20, \"Hello\"]\n",
    "print(\"List:\",example_list[0])\n",
    "\n",
    "example_tuple = (10, 10, 20, 30)\n",
    "print(\"Tuple:\",example_tuple[0])\n",
    "\n",
    "example_set = {10, 20, 30}\n",
    "print(\"Set:\",example_set[0])"
   ]
  },
  {
   "cell_type": "markdown",
   "metadata": {},
   "source": [
    "## Class and Function\n",
    "\n",
    "**Class**\n",
    "- can contain important function and variable needed in an object\n",
    "\n",
    "**Function** \n",
    "- Functions are also called method are blocks of code\n",
    "- a function is called with the code is runned"
   ]
  },
  {
   "cell_type": "code",
   "execution_count": 108,
   "metadata": {},
   "outputs": [
    {
     "name": "stdout",
     "output_type": "stream",
     "text": [
      "John Doe\n",
      "Jane Doe\n"
     ]
    }
   ],
   "source": [
    "# Class\n",
    "\n",
    "class Person:\n",
    "  def __init__(self,name,age):\n",
    "    self.name = name\n",
    "    self.age = age\n",
    "\n",
    "john_doe = Person(\"John Doe\", 25)\n",
    "jane_doe = Person(\"Jane Doe\", 26)\n",
    "\n",
    "print(john_doe.name)\n",
    "print(jane_doe.name)"
   ]
  },
  {
   "cell_type": "code",
   "execution_count": 109,
   "metadata": {},
   "outputs": [
    {
     "name": "stdout",
     "output_type": "stream",
     "text": [
      "11.180339887498949\n",
      "4.123105625617661\n"
     ]
    }
   ],
   "source": [
    "#Function - can have data input into them\n",
    "# Point 1 and Point 2 are variables, and must be input into the function for excution\n",
    "# Fuctions do not require inputs or return\n",
    "\n",
    "import math\n",
    "\n",
    "# Euclidean distance is the distance btw two space of geometry\n",
    "def euclidean_distance(point1,point2): \n",
    "  a = math.pow(point1[0] - point2[0],2)\n",
    "  b = math.pow(point1[1] - point2[1],2)\n",
    "  return math.sqrt(a+b)\n",
    "# math.pow method returns the value of x and raised to power y (x^y)\n",
    "\n",
    "\n",
    "point1 = [10,10]\n",
    "point2 = [15,20]\n",
    "print(euclidean_distance(point1,point2))\n",
    "\n",
    "point3 = [2,5]\n",
    "point4 = [1,9]\n",
    "print(euclidean_distance(point3,point4))"
   ]
  },
  {
   "cell_type": "markdown",
   "metadata": {},
   "source": [
    "## Conditions and Loop\n",
    "- conditions are used test if a statement is true or false.\n",
    "- return a boolean variable\n",
    "- \"and' and \"or\" statement"
   ]
  },
  {
   "cell_type": "code",
   "execution_count": null,
   "metadata": {},
   "outputs": [],
   "source": [
    "a = 10\n",
    "b = 20\n",
    "\n",
    "print(\"a == b\" ,a == b)\n",
    "print(\"a != b\", a != b)\n",
    "print(\"a < b\", a < b)\n",
    "print(\"a <= b\", a <= b)\n",
    "print(\"a > b\", a > b)\n",
    "print(\"a >= b\", a >= b)\n",
    "print('\\n')\n",
    "print(\"a != b or a > b\", a != b or a > b)\n",
    "print(\"a != b and a > b\", a != b and a > b)"
   ]
  },
  {
   "cell_type": "markdown",
   "metadata": {},
   "source": [
    "## If Else Statements\n",
    "- there are three possile choice for the statemenets\n",
    "  1. If\n",
    "  2. Elif\n",
    "  3. Else\n",
    "- If statement test if a condition is true and execute the code if it is.\n",
    "- Elif can be chained with an if statment to add additional test (kinda stands for but if)\n",
    "- Else Statements are used to cover all others cases, and should be added to the end of the chain. (kinda stands for \"if not that\")"
   ]
  },
  {
   "cell_type": "code",
   "execution_count": 110,
   "metadata": {},
   "outputs": [
    {
     "name": "stdout",
     "output_type": "stream",
     "text": [
      "a is less then b\n",
      "a and b are the same\n",
      "a is greater then b\n"
     ]
    }
   ],
   "source": [
    "def relationship_of_values(a,b):\n",
    "  if a < b:\n",
    "    print(\"a is less then b\")\n",
    "\n",
    "  elif a == b:\n",
    "    print(\"a and b are the same\")\n",
    "\n",
    "  else:\n",
    "    print(\"a is greater then b\")\n",
    "\n",
    "\n",
    "relationship_of_values(10,20)\n",
    "relationship_of_values(10,10)\n",
    "relationship_of_values(20,10)"
   ]
  },
  {
   "cell_type": "markdown",
   "metadata": {},
   "source": [
    "## For Loops\n",
    "- are used to iterate through a collection"
   ]
  },
  {
   "cell_type": "code",
   "execution_count": 112,
   "metadata": {},
   "outputs": [
    {
     "name": "stdout",
     "output_type": "stream",
     "text": [
      "0\n",
      "1\n",
      "2\n",
      "3\n",
      "4\n",
      "5\n",
      "6\n",
      "7\n",
      "8\n",
      "9\n"
     ]
    }
   ],
   "source": [
    "x = range(10)\n",
    "for i in x:\n",
    "  print(i)"
   ]
  },
  {
   "cell_type": "markdown",
   "metadata": {},
   "source": [
    "## While Loops\n",
    "- will contiue to run as long as condition is true\n",
    "- one must be careful when using a while loop. They run forever\n",
    "- Use to terminal, control c to shut down"
   ]
  },
  {
   "cell_type": "code",
   "execution_count": 113,
   "metadata": {},
   "outputs": [
    {
     "name": "stdout",
     "output_type": "stream",
     "text": [
      "0\n",
      "1\n",
      "2\n",
      "3\n",
      "4\n",
      "5\n",
      "6\n",
      "7\n",
      "8\n",
      "9\n"
     ]
    }
   ],
   "source": [
    "n = 0\n",
    "while n < 10:\n",
    "  print(n)\n",
    "  n += 1"
   ]
  },
  {
   "cell_type": "markdown",
   "metadata": {},
   "source": [
    "## Break and Continue\n",
    "- used to manipulate a loop\n",
    "- Break states will exit the loop if called\n",
    "- Continue states will jump to the next iteration of the loop"
   ]
  },
  {
   "cell_type": "code",
   "execution_count": 114,
   "metadata": {},
   "outputs": [
    {
     "name": "stdout",
     "output_type": "stream",
     "text": [
      "1\n",
      "3\n",
      "5\n",
      "7\n",
      "9\n",
      "11\n",
      "13\n",
      "15\n",
      "17\n",
      "19\n"
     ]
    }
   ],
   "source": [
    "n = 0\n",
    "\n",
    "while True:\n",
    "  if n % 2 == 0: #remainder is zero\n",
    "    n += 1\n",
    "    continue\n",
    "  elif n >= 20:\n",
    "    break\n",
    "  print(n)\n",
    "  n += 1"
   ]
  },
  {
   "cell_type": "markdown",
   "metadata": {},
   "source": [
    "## Exercise\n",
    "- create a class that calculates the first n values inthe Fibonacci Sequence. "
   ]
  },
  {
   "cell_type": "code",
   "execution_count": 3,
   "metadata": {},
   "outputs": [
    {
     "name": "stdout",
     "output_type": "stream",
     "text": [
      "[0, 1, 1, 2, 3, 5, 8]\n",
      "<__main__.Sequence object at 0x7f69f8751f40>\n"
     ]
    }
   ],
   "source": [
    "class Sequence():\n",
    "    def __init__(self, length): \n",
    "        self.length = length \n",
    "        list = [0,1]\n",
    "        while (len(list)< length): \n",
    "            list.append(list[-1] + list[-2])\n",
    "\n",
    "        print(list)\n",
    "\n",
    "test = Sequence(7)\n",
    "print(test) "
   ]
  },
  {
   "cell_type": "code",
   "execution_count": null,
   "metadata": {},
   "outputs": [],
   "source": []
  }
 ],
 "metadata": {
  "kernelspec": {
   "display_name": "Python 3.8.10 64-bit",
   "language": "python",
   "name": "python3"
  },
  "language_info": {
   "codemirror_mode": {
    "name": "ipython",
    "version": 3
   },
   "file_extension": ".py",
   "mimetype": "text/x-python",
   "name": "python",
   "nbconvert_exporter": "python",
   "pygments_lexer": "ipython3",
   "version": "3.8.10"
  },
  "orig_nbformat": 4,
  "vscode": {
   "interpreter": {
    "hash": "916dbcbb3f70747c44a77c7bcd40155683ae19c65e1c03b4aa3499c5328201f1"
   }
  }
 },
 "nbformat": 4,
 "nbformat_minor": 2
}
