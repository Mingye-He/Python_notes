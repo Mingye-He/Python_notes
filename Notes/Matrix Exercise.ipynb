{
 "cells": [
  {
   "cell_type": "markdown",
   "metadata": {},
   "source": [
    "Use Python to calculate the"
   ]
  },
  {
   "cell_type": "code",
   "execution_count": 6,
   "metadata": {},
   "outputs": [],
   "source": [
    "import numpy as np"
   ]
  },
  {
   "cell_type": "code",
   "execution_count": 7,
   "metadata": {},
   "outputs": [
    {
     "name": "stdout",
     "output_type": "stream",
     "text": [
      "[20, 40, 60, 80, 100, 120, 140, 160, 180, 200, 220, 240, 260, 280, 300, 320, 340, 360, 380, 400, 420, 440, 460, 480, 500, 520, 540, 560, 580, 600, 620, 640, 660, 680, 700]\n",
      "12600\n"
     ]
    }
   ],
   "source": [
    "x = 35\n",
    "list1 = [0]*35\n",
    "count = 1\n",
    "ind = 0\n",
    "\n",
    "for i in range(x):\n",
    "    list1[ind] = 20*count\n",
    "    ind +=1\n",
    "    count +=1\n",
    "print(list1)\n",
    "\n",
    "print(np.sum(list1))"
   ]
  },
  {
   "cell_type": "code",
   "execution_count": 8,
   "metadata": {},
   "outputs": [
    {
     "name": "stdout",
     "output_type": "stream",
     "text": [
      "[20, 40, 60, 80, 100, 120, 140, 160, 180, 200, 220, 240, 260, 280, 300, 320, 340, 360, 380, 400, 420, 440, 460, 480, 500, 520, 540, 560, 580, 600, 620, 640, 660, 680, 700]\n",
      "12600\n"
     ]
    }
   ],
   "source": [
    "\n",
    "list1 = [0]*35\n",
    "count = 1\n",
    "ind = 0\n",
    "\n",
    "for i in range(x):\n",
    "    list1[ind] = 20*count\n",
    "    ind +=1\n",
    "    count +=1\n",
    "print(list1)\n",
    "\n",
    "print(np.sum(list1))"
   ]
  },
  {
   "cell_type": "code",
   "execution_count": 9,
   "metadata": {},
   "outputs": [
    {
     "name": "stdout",
     "output_type": "stream",
     "text": [
      "[[2 3 4]\n",
      " [5 6 7]\n",
      " [8 9 0]]\n"
     ]
    }
   ],
   "source": [
    "array= np.array([[2,3,4],[5,6,7],[8,9,0]])\n",
    "print(array)"
   ]
  },
  {
   "cell_type": "code",
   "execution_count": 10,
   "metadata": {},
   "outputs": [
    {
     "name": "stdout",
     "output_type": "stream",
     "text": [
      "[2 5 8]\n"
     ]
    }
   ],
   "source": [
    "print(array[:,0])"
   ]
  },
  {
   "cell_type": "code",
   "execution_count": 17,
   "metadata": {},
   "outputs": [
    {
     "name": "stdout",
     "output_type": "stream",
     "text": [
      "44\n"
     ]
    }
   ],
   "source": [
    "M = np.array([[2,3,4],[5,6,7],[8,9,0]])\n",
    "count = 0 \n",
    "newsum = 0\n",
    "\n",
    "for j in np.arange(3):\n",
    "    newsum += sum1 \n",
    "\n",
    "    for i in range(1):\n",
    "        sum1 = np.sum(M[count, :])\n",
    "        count += 1\n",
    "        #print(sum1)\n",
    "\n",
    "print(newsum)"
   ]
  }
 ],
 "metadata": {
  "kernelspec": {
   "display_name": "Python 3.10.5 64-bit",
   "language": "python",
   "name": "python3"
  },
  "language_info": {
   "codemirror_mode": {
    "name": "ipython",
    "version": 3
   },
   "file_extension": ".py",
   "mimetype": "text/x-python",
   "name": "python",
   "nbconvert_exporter": "python",
   "pygments_lexer": "ipython3",
   "version": "3.10.5"
  },
  "orig_nbformat": 4,
  "vscode": {
   "interpreter": {
    "hash": "a0b92009e007ea74892ce71852617f5d08439bc7009f742fab30cbd093887492"
   }
  }
 },
 "nbformat": 4,
 "nbformat_minor": 2
}
